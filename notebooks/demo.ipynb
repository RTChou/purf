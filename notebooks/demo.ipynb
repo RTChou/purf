{
 "cells": [
  {
   "cell_type": "markdown",
   "id": "353d0ec8",
   "metadata": {
    "toc": true
   },
   "source": [
    "<h1>Table of Contents<span class=\"tocSkip\"></span></h1>\n",
    "<div class=\"toc\"><ul class=\"toc-item\"><li><span><a href=\"#Small-data-set-demo\" data-toc-modified-id=\"Small-data-set-demo-1\"><span class=\"toc-item-num\">1&nbsp;&nbsp;</span>Small data set demo</a></span><ul class=\"toc-item\"><li><span><a href=\"#Import-packages\" data-toc-modified-id=\"Import-packages-1.1\"><span class=\"toc-item-num\">1.1&nbsp;&nbsp;</span>Import packages</a></span></li><li><span><a href=\"#Simulate-data-set\" data-toc-modified-id=\"Simulate-data-set-1.2\"><span class=\"toc-item-num\">1.2&nbsp;&nbsp;</span>Simulate data set</a></span></li><li><span><a href=\"#Covert-to-positive-unlabeled-data-set\" data-toc-modified-id=\"Covert-to-positive-unlabeled-data-set-1.3\"><span class=\"toc-item-num\">1.3&nbsp;&nbsp;</span>Covert to positive-unlabeled data set</a></span></li><li><span><a href=\"#Train-PURF-model\" data-toc-modified-id=\"Train-PURF-model-1.4\"><span class=\"toc-item-num\">1.4&nbsp;&nbsp;</span>Train PURF model</a></span></li><li><span><a href=\"#Examine-the-model\" data-toc-modified-id=\"Examine-the-model-1.5\"><span class=\"toc-item-num\">1.5&nbsp;&nbsp;</span>Examine the model</a></span></li><li><span><a href=\"#Session-info\" data-toc-modified-id=\"Session-info-1.6\"><span class=\"toc-item-num\">1.6&nbsp;&nbsp;</span>Session info</a></span></li></ul></li></ul></div>"
   ]
  },
  {
   "cell_type": "markdown",
   "id": "58cd5c5f",
   "metadata": {},
   "source": [
    "# Small data set demo"
   ]
  },
  {
   "cell_type": "markdown",
   "id": "ac671f1a",
   "metadata": {},
   "source": [
    "## Import packages"
   ]
  },
  {
   "cell_type": "code",
   "execution_count": 1,
   "id": "7cfa5313",
   "metadata": {},
   "outputs": [],
   "source": [
    "from sklearn.datasets import make_classification\n",
    "import pandas as pd\n",
    "from sklearn.ensemble import RandomForestClassifier\n",
    "import numpy as np\n",
    "from sklearn.impute import SimpleImputer\n",
    "from sklearn.preprocessing import MinMaxScaler\n",
    "from scipy.spatial import distance\n",
    "from purf.pu_ensemble import PURandomForestClassifier\n",
    "import pickle\n",
    "import time"
   ]
  },
  {
   "cell_type": "markdown",
   "id": "3e52f744",
   "metadata": {},
   "source": [
    "## Simulate data set"
   ]
  },
  {
   "cell_type": "code",
   "execution_count": 2,
   "id": "1cee205c",
   "metadata": {},
   "outputs": [
    {
     "name": "stdout",
     "output_type": "stream",
     "text": [
      "5000 data points and 300 features\n",
      "2495 positive out of 5000 total\n"
     ]
    }
   ],
   "source": [
    "X, y = make_classification(\n",
    "    n_samples=5000, \n",
    "    n_features=300, \n",
    "    n_informative=250, \n",
    "    n_redundant=40, \n",
    "    n_repeated=10, \n",
    "    n_classes=2, \n",
    "    n_clusters_per_class=1, \n",
    "    class_sep=2, \n",
    "    random_state=1)\n",
    "\n",
    "X = pd.DataFrame(X)\n",
    "\n",
    "print('%d data points and %d features' % (X.shape))\n",
    "print('%d positive out of %d total' % (sum(y), len(y)))"
   ]
  },
  {
   "cell_type": "markdown",
   "id": "f0f04505",
   "metadata": {},
   "source": [
    "## Covert to positive-unlabeled data set"
   ]
  },
  {
   "cell_type": "code",
   "execution_count": 3,
   "id": "53f21e23",
   "metadata": {},
   "outputs": [
    {
     "name": "stdout",
     "output_type": "stream",
     "text": [
      "50 positive out of 5000 total\n"
     ]
    }
   ],
   "source": [
    "res_ = pd.DataFrame({'label' : y})\n",
    "\n",
    "rf = RandomForestClassifier(\n",
    "    n_estimators = 1000,\n",
    "    max_samples = min(sum(y==0), sum(y==1)),\n",
    "    oob_score = True,\n",
    "    n_jobs = -1,\n",
    "    random_state = 30\n",
    ")\n",
    "rf.fit(X, y)\n",
    "res_['rf'] = rf.oob_decision_function_[:,1]\n",
    "y_orig = y.copy()\n",
    "\n",
    "# 99% unlabeled\n",
    "np.random.seed(0)\n",
    "y[np.random.choice(np.where((res_['label'] == 1))[0], replace=False, size=50)] = 2 \n",
    "y[y == 1] = 0\n",
    "y[y == 2] = 1\n",
    "res_['pu_label'] = y\n",
    "\n",
    "print('%d positive out of %d total' % (sum(y), len(y)))\n",
    "res_.to_csv('./simulation_labels.csv')"
   ]
  },
  {
   "cell_type": "markdown",
   "id": "c3645872",
   "metadata": {},
   "source": [
    "## Train PURF model"
   ]
  },
  {
   "cell_type": "code",
   "execution_count": 4,
   "id": "3df0159e",
   "metadata": {},
   "outputs": [
    {
     "name": "stdout",
     "output_type": "stream",
     "text": [
      "Execution time: 96.82 seconds\n"
     ]
    }
   ],
   "source": [
    "# Define function\n",
    "def train_purf(features, outcome, res_path, pickle_path='./tmp.pkl', pos_level=0.5, save_model=True):\n",
    "    # Imputation\n",
    "    imputer = SimpleImputer(strategy='median')\n",
    "    X = imputer.fit_transform(features)\n",
    "    X = pd.DataFrame(X, index=features.index, columns=features.columns)\n",
    "    y = outcome\n",
    "    features = X\n",
    "    # Training PURF\n",
    "    purf = PURandomForestClassifier(\n",
    "        n_estimators = 1000,\n",
    "        oob_score = True,\n",
    "        n_jobs = -1,\n",
    "        random_state = 42,\n",
    "        pos_level = pos_level\n",
    "    )\n",
    "    purf.fit(X, y)\n",
    "    # Storing results\n",
    "    res = pd.DataFrame({'protein_id': X.index, 'antigen_label' : y})\n",
    "    res['OOB score'] = purf.oob_decision_function_[:,1]\n",
    "    res = res.groupby('protein_id').mean().merge(features, left_index=True, right_index=True)\n",
    "    res.to_csv(res_path)\n",
    "    if save_model is True:\n",
    "        with open(pickle_path, 'wb') as out:\n",
    "            pickle.dump(purf, out, pickle.HIGHEST_PROTOCOL)\n",
    "\n",
    "# Train model\n",
    "st = time.time()\n",
    "train_purf(X, y, res_path='./simulation_res.csv')\n",
    "et = time.time()\n",
    "\n",
    "print('Execution time:', round(et - st, 2), 'seconds')"
   ]
  },
  {
   "cell_type": "markdown",
   "id": "c1382613",
   "metadata": {},
   "source": [
    "## Examine the model"
   ]
  },
  {
   "cell_type": "code",
   "execution_count": 5,
   "id": "bedff701",
   "metadata": {},
   "outputs": [
    {
     "name": "stdout",
     "output_type": "stream",
     "text": [
      "PURandomForestClassifier(n_estimators=1000, n_jobs=-1, oob_score=True,\n",
      "                         random_state=42)\n",
      "dict_keys(['base_estimator', 'n_estimators', 'estimator_params', 'bootstrap', 'oob_score', 'n_jobs', 'random_state', 'verbose', 'warm_start', 'class_weight', 'max_samples', 'pos_level', 'criterion', 'max_depth', 'min_samples_split', 'min_samples_leaf', 'min_weight_fraction_leaf', 'max_features', 'max_leaf_nodes', 'min_impurity_decrease', 'min_impurity_split', 'ccp_alpha', 'n_features_in_', 'n_features_', 'n_outputs_', 'classes_', 'n_classes_', 'base_estimator_', 'estimators_', 'oob_decision_function_', 'oob_score_'])\n"
     ]
    }
   ],
   "source": [
    "purf_model = pickle.load(open('./tmp.pkl', 'rb'))\n",
    "print(purf_model)\n",
    "print(purf_model.__dict__.keys())"
   ]
  },
  {
   "cell_type": "markdown",
   "id": "a0129f20",
   "metadata": {},
   "source": [
    "## Session info"
   ]
  },
  {
   "cell_type": "code",
   "execution_count": 6,
   "id": "da75f74b",
   "metadata": {},
   "outputs": [
    {
     "data": {
      "text/html": [
       "<details>\n",
       "<summary>Click to view session information</summary>\n",
       "<pre>\n",
       "-----\n",
       "numpy               1.20.3\n",
       "pandas              1.3.2\n",
       "purf                NA\n",
       "scipy               1.7.1\n",
       "session_info        1.0.0\n",
       "sklearn             0.24.2\n",
       "-----\n",
       "</pre>\n",
       "<details>\n",
       "<summary>Click to view modules imported as dependencies</summary>\n",
       "<pre>\n",
       "appnope                     0.1.2\n",
       "backcall                    0.2.0\n",
       "beta_ufunc                  NA\n",
       "binom_ufunc                 NA\n",
       "bottleneck                  1.3.2\n",
       "colorama                    0.4.5\n",
       "cython_runtime              NA\n",
       "dateutil                    2.8.2\n",
       "debugpy                     1.4.1\n",
       "decorator                   5.1.0\n",
       "entrypoints                 0.3\n",
       "ipykernel                   6.4.1\n",
       "ipython_genutils            0.2.0\n",
       "jedi                        0.18.0\n",
       "joblib                      1.0.1\n",
       "mkl                         2.4.0\n",
       "mpl_toolkits                NA\n",
       "nbinom_ufunc                NA\n",
       "numexpr                     2.7.3\n",
       "parso                       0.8.2\n",
       "pexpect                     4.8.0\n",
       "pickleshare                 0.7.5\n",
       "pkg_resources               NA\n",
       "prompt_toolkit              3.0.20\n",
       "ptyprocess                  0.7.0\n",
       "pydev_ipython               NA\n",
       "pydevconsole                NA\n",
       "pydevd                      2.4.1\n",
       "pydevd_concurrency_analyser NA\n",
       "pydevd_file_utils           NA\n",
       "pydevd_plugins              NA\n",
       "pydevd_tracing              NA\n",
       "pyexpat                     NA\n",
       "pygments                    2.10.0\n",
       "pytz                        2021.1\n",
       "six                         1.16.0\n",
       "sphinxcontrib               NA\n",
       "storemagic                  NA\n",
       "tornado                     6.1\n",
       "traitlets                   5.1.0\n",
       "wcwidth                     0.2.5\n",
       "zmq                         22.2.1\n",
       "</pre>\n",
       "</details> <!-- seems like this ends pre, so might as well be explicit -->\n",
       "<pre>\n",
       "-----\n",
       "IPython             7.27.0\n",
       "jupyter_client      7.0.2\n",
       "jupyter_core        4.7.1\n",
       "notebook            6.4.3\n",
       "-----\n",
       "Python 3.9.6 (default, Aug 18 2021, 12:38:10) [Clang 10.0.0 ]\n",
       "macOS-10.16-x86_64-i386-64bit\n",
       "-----\n",
       "Session information updated at 2023-02-21 12:17\n",
       "</pre>\n",
       "</details>"
      ],
      "text/plain": [
       "<IPython.core.display.HTML object>"
      ]
     },
     "execution_count": 6,
     "metadata": {},
     "output_type": "execute_result"
    }
   ],
   "source": [
    "import session_info\n",
    "\n",
    "session_info.show()"
   ]
  },
  {
   "cell_type": "code",
   "execution_count": null,
   "id": "eb68bac2",
   "metadata": {},
   "outputs": [],
   "source": []
  }
 ],
 "metadata": {
  "hide_input": false,
  "kernelspec": {
   "display_name": "Python 3 (ipykernel)",
   "language": "python",
   "name": "python3"
  },
  "language_info": {
   "codemirror_mode": {
    "name": "ipython",
    "version": 3
   },
   "file_extension": ".py",
   "mimetype": "text/x-python",
   "name": "python",
   "nbconvert_exporter": "python",
   "pygments_lexer": "ipython3",
   "version": "3.9.6"
  },
  "latex_envs": {
   "LaTeX_envs_menu_present": true,
   "autoclose": false,
   "autocomplete": true,
   "bibliofile": "biblio.bib",
   "cite_by": "apalike",
   "current_citInitial": 1,
   "eqLabelWithNumbers": true,
   "eqNumInitial": 1,
   "hotkeys": {
    "equation": "Ctrl-E",
    "itemize": "Ctrl-I"
   },
   "labels_anchors": false,
   "latex_user_defs": false,
   "report_style_numbering": false,
   "user_envs_cfg": false
  },
  "toc": {
   "base_numbering": 1,
   "nav_menu": {},
   "number_sections": true,
   "sideBar": true,
   "skip_h1_title": false,
   "title_cell": "Table of Contents",
   "title_sidebar": "__________________________________ Contents",
   "toc_cell": true,
   "toc_position": {},
   "toc_section_display": true,
   "toc_window_display": true
  }
 },
 "nbformat": 4,
 "nbformat_minor": 5
}
